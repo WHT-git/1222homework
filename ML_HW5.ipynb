{
  "nbformat": 4,
  "nbformat_minor": 0,
  "metadata": {
    "colab": {
      "name": "ML_HW5.ipynb",
      "provenance": [],
      "collapsed_sections": []
    },
    "kernelspec": {
      "name": "python3",
      "display_name": "Python 3"
    }
  },
  "cells": [
    {
      "cell_type": "code",
      "metadata": {
        "id": "pfYdJ2knt7pH"
      },
      "source": [
        "import numpy as np\r\n",
        "import pandas as pd\r\n",
        "from sklearn.datasets import load_digits\r\n",
        "import matplotlib.pyplot as plt  "
      ],
      "execution_count": 151,
      "outputs": []
    },
    {
      "cell_type": "code",
      "metadata": {
        "id": "0cYYpXZPYPgG"
      },
      "source": [
        "digist = datasets.load_digits()"
      ],
      "execution_count": 152,
      "outputs": []
    },
    {
      "cell_type": "code",
      "metadata": {
        "id": "CU_ED8kqYZgF"
      },
      "source": [
        "X = digist.data\r\n",
        "y = digist.target"
      ],
      "execution_count": 153,
      "outputs": []
    },
    {
      "cell_type": "code",
      "metadata": {
        "colab": {
          "base_uri": "https://localhost:8080/"
        },
        "id": "l8pxHw-LW1qn",
        "outputId": "4f6b696a-52e7-4c42-84c1-f12760e8b362"
      },
      "source": [
        "X"
      ],
      "execution_count": 154,
      "outputs": [
        {
          "output_type": "execute_result",
          "data": {
            "text/plain": [
              "array([[ 0.,  0.,  5., ...,  0.,  0.,  0.],\n",
              "       [ 0.,  0.,  0., ..., 10.,  0.,  0.],\n",
              "       [ 0.,  0.,  0., ..., 16.,  9.,  0.],\n",
              "       ...,\n",
              "       [ 0.,  0.,  1., ...,  6.,  0.,  0.],\n",
              "       [ 0.,  0.,  2., ..., 12.,  0.,  0.],\n",
              "       [ 0.,  0., 10., ..., 12.,  1.,  0.]])"
            ]
          },
          "metadata": {
            "tags": []
          },
          "execution_count": 154
        }
      ]
    },
    {
      "cell_type": "code",
      "metadata": {
        "id": "k6gRWlneuLeJ"
      },
      "source": [
        "from sklearn.cluster import KMeans"
      ],
      "execution_count": 155,
      "outputs": []
    },
    {
      "cell_type": "code",
      "metadata": {
        "colab": {
          "base_uri": "https://localhost:8080/"
        },
        "id": "eOzARwjjmxrS",
        "outputId": "1ae74f80-dcf2-44c9-84dc-744bb881c73b"
      },
      "source": [
        "nb_clusters = [2, 3, 4, 5, 6, 7, 8, 9, 10]\r\n",
        "inertias = []\r\n",
        "for n in nb_clusters:\r\n",
        "  km = KMeans(n_clusters=n)\r\n",
        "  km.fit(X)\r\n",
        "  inertias.append(km.inertia_)\r\n",
        "inertias"
      ],
      "execution_count": 156,
      "outputs": [
        {
          "output_type": "execute_result",
          "data": {
            "text/plain": [
              "[1914619.617550103,\n",
              " 1730182.2600869092,\n",
              " 1609559.5518465748,\n",
              " 1497601.9862230495,\n",
              " 1415478.655862513,\n",
              " 1334766.428124134,\n",
              " 1264975.838626755,\n",
              " 1202362.1610083228,\n",
              " 1165265.193005922]"
            ]
          },
          "metadata": {
            "tags": []
          },
          "execution_count": 156
        }
      ]
    },
    {
      "cell_type": "code",
      "metadata": {
        "id": "5b3A-ayjuOWK"
      },
      "source": [
        "from sklearn.cluster import DBSCAN"
      ],
      "execution_count": 157,
      "outputs": []
    },
    {
      "cell_type": "code",
      "metadata": {
        "id": "gv_glf2paezr"
      },
      "source": [
        "dbs = DBSCAN(eps=21)\r\n",
        "Yp_dbs = dbs.fit_predict(X)"
      ],
      "execution_count": 158,
      "outputs": []
    },
    {
      "cell_type": "code",
      "metadata": {
        "id": "jKNOpAY806yG"
      },
      "source": [
        ""
      ],
      "execution_count": null,
      "outputs": []
    },
    {
      "cell_type": "code",
      "metadata": {
        "id": "ZuUIfGGcuRcD"
      },
      "source": [
        "from sklearn.cluster import SpectralClustering"
      ],
      "execution_count": 159,
      "outputs": []
    },
    {
      "cell_type": "code",
      "metadata": {
        "id": "f6cZQBAzbXg1"
      },
      "source": [
        "sc = SpectralClustering(n_clusters=9, affinity='nearest_neighbors')\r\n",
        "Ys = sc.fit_predict(X)"
      ],
      "execution_count": 160,
      "outputs": []
    },
    {
      "cell_type": "code",
      "metadata": {
        "id": "VSMi79okuUre"
      },
      "source": [
        "from sklearn.cluster import AgglomerativeClustering"
      ],
      "execution_count": 161,
      "outputs": []
    },
    {
      "cell_type": "code",
      "metadata": {
        "id": "fIBqJQSCjn8R"
      },
      "source": [
        "#complete linkage\r\n",
        "ac = AgglomerativeClustering(n_clusters=9, linkage='complete')\r\n",
        "Y_ac = ac.fit_predict(X)"
      ],
      "execution_count": 162,
      "outputs": []
    },
    {
      "cell_type": "markdown",
      "metadata": {
        "id": "fotjTzhnm-fh"
      },
      "source": [
        "##評分結果"
      ]
    },
    {
      "cell_type": "code",
      "metadata": {
        "id": "96u5_7OTaNhH"
      },
      "source": [
        "from sklearn.metrics import silhouette_score\r\n",
        "from sklearn.metrics import calinski_harabaz_score\r\n",
        "from sklearn.metrics import completeness_score\r\n",
        "from sklearn.metrics import adjusted_rand_score\r\n",
        "from sklearn.metrics import homogeneity_score"
      ],
      "execution_count": 163,
      "outputs": []
    },
    {
      "cell_type": "markdown",
      "metadata": {
        "id": "ZmcH1THYnqsZ"
      },
      "source": [
        "Kmean"
      ]
    },
    {
      "cell_type": "code",
      "metadata": {
        "id": "vO44PXdgXJsd"
      },
      "source": [
        "avg_silhouettes = []\r\n",
        "for n in nb_clusters:\r\n",
        "  km = KMeans(n_clusters=n)\r\n",
        "  y_km = km.fit_predict(X)\r\n",
        "  avg_silhouettes.append(silhouette_score(X, y_km))"
      ],
      "execution_count": 164,
      "outputs": []
    },
    {
      "cell_type": "code",
      "metadata": {
        "colab": {
          "base_uri": "https://localhost:8080/"
        },
        "id": "RO7ICNcln0uW",
        "outputId": "3a408868-b450-4e2d-c9bb-1995fe805c95"
      },
      "source": [
        "avg_silhouettes"
      ],
      "execution_count": 165,
      "outputs": [
        {
          "output_type": "execute_result",
          "data": {
            "text/plain": [
              "[0.11832841100655983,\n",
              " 0.12650078210066507,\n",
              " 0.12801530390921514,\n",
              " 0.13602996477728693,\n",
              " 0.15156122535780586,\n",
              " 0.16350066561832777,\n",
              " 0.17854858359928963,\n",
              " 0.18904172432609262,\n",
              " 0.18241804534826836]"
            ]
          },
          "metadata": {
            "tags": []
          },
          "execution_count": 165
        }
      ]
    },
    {
      "cell_type": "code",
      "metadata": {
        "colab": {
          "base_uri": "https://localhost:8080/",
          "height": 283
        },
        "id": "28oUWZyI0QdU",
        "outputId": "e59d4878-306a-449d-87da-e10c5f850adb"
      },
      "source": [
        "plt.plot(nb_clusters, avg_silhouettes) "
      ],
      "execution_count": 166,
      "outputs": [
        {
          "output_type": "execute_result",
          "data": {
            "text/plain": [
              "[<matplotlib.lines.Line2D at 0x7f7ccd0453c8>]"
            ]
          },
          "metadata": {
            "tags": []
          },
          "execution_count": 166
        },
        {
          "output_type": "display_data",
          "data": {
            "image/png": "[encoded data removed]",
            "text/plain": [
              "<Figure size 432x288 with 1 Axes>"
            ]
          },
          "metadata": {
            "tags": [],
            "needs_background": "light"
          }
        }
      ]
    },
    {
      "cell_type": "code",
      "metadata": {
        "colab": {
          "base_uri": "https://localhost:8080/"
        },
        "id": "bp2Afsm6ac4Q",
        "outputId": "806eaca0-064a-4335-8024-2c43907f1d59"
      },
      "source": [
        "ch_sc = []\r\n",
        "for n in nb_clusters:\r\n",
        "  km = KMeans(n_clusters=n)\r\n",
        "  y_km = km.fit_predict(X)\r\n",
        "  ch_sc.append(calinski_harabaz_score(X, y_km))"
      ],
      "execution_count": 167,
      "outputs": [
        {
          "output_type": "stream",
          "text": [
            "/usr/local/lib/python3.6/dist-packages/sklearn/utils/deprecation.py:87: FutureWarning: Function calinski_harabaz_score is deprecated; Function 'calinski_harabaz_score' has been renamed to 'calinski_harabasz_score' and will be removed in version 0.23.\n",
            "  warnings.warn(msg, category=FutureWarning)\n",
            "/usr/local/lib/python3.6/dist-packages/sklearn/utils/deprecation.py:87: FutureWarning: Function calinski_harabaz_score is deprecated; Function 'calinski_harabaz_score' has been renamed to 'calinski_harabasz_score' and will be removed in version 0.23.\n",
            "  warnings.warn(msg, category=FutureWarning)\n",
            "/usr/local/lib/python3.6/dist-packages/sklearn/utils/deprecation.py:87: FutureWarning: Function calinski_harabaz_score is deprecated; Function 'calinski_harabaz_score' has been renamed to 'calinski_harabasz_score' and will be removed in version 0.23.\n",
            "  warnings.warn(msg, category=FutureWarning)\n",
            "/usr/local/lib/python3.6/dist-packages/sklearn/utils/deprecation.py:87: FutureWarning: Function calinski_harabaz_score is deprecated; Function 'calinski_harabaz_score' has been renamed to 'calinski_harabasz_score' and will be removed in version 0.23.\n",
            "  warnings.warn(msg, category=FutureWarning)\n",
            "/usr/local/lib/python3.6/dist-packages/sklearn/utils/deprecation.py:87: FutureWarning: Function calinski_harabaz_score is deprecated; Function 'calinski_harabaz_score' has been renamed to 'calinski_harabasz_score' and will be removed in version 0.23.\n",
            "  warnings.warn(msg, category=FutureWarning)\n",
            "/usr/local/lib/python3.6/dist-packages/sklearn/utils/deprecation.py:87: FutureWarning: Function calinski_harabaz_score is deprecated; Function 'calinski_harabaz_score' has been renamed to 'calinski_harabasz_score' and will be removed in version 0.23.\n",
            "  warnings.warn(msg, category=FutureWarning)\n",
            "/usr/local/lib/python3.6/dist-packages/sklearn/utils/deprecation.py:87: FutureWarning: Function calinski_harabaz_score is deprecated; Function 'calinski_harabaz_score' has been renamed to 'calinski_harabasz_score' and will be removed in version 0.23.\n",
            "  warnings.warn(msg, category=FutureWarning)\n",
            "/usr/local/lib/python3.6/dist-packages/sklearn/utils/deprecation.py:87: FutureWarning: Function calinski_harabaz_score is deprecated; Function 'calinski_harabaz_score' has been renamed to 'calinski_harabasz_score' and will be removed in version 0.23.\n",
            "  warnings.warn(msg, category=FutureWarning)\n",
            "/usr/local/lib/python3.6/dist-packages/sklearn/utils/deprecation.py:87: FutureWarning: Function calinski_harabaz_score is deprecated; Function 'calinski_harabaz_score' has been renamed to 'calinski_harabasz_score' and will be removed in version 0.23.\n",
            "  warnings.warn(msg, category=FutureWarning)\n"
          ],
          "name": "stderr"
        }
      ]
    },
    {
      "cell_type": "code",
      "metadata": {
        "colab": {
          "base_uri": "https://localhost:8080/"
        },
        "id": "B_zpNw9Kadfb",
        "outputId": "c6424441-63a2-4a9e-cdc0-c248bb0c1d30"
      },
      "source": [
        "ch_sc"
      ],
      "execution_count": 168,
      "outputs": [
        {
          "output_type": "execute_result",
          "data": {
            "text/plain": [
              "[229.16595019376055,\n",
              " 222.3470391761836,\n",
              " 204.01002033240022,\n",
              " 196.32365795667283,\n",
              " 192.25539415894073,\n",
              " 183.62400198808436,\n",
              " 180.5379011836597,\n",
              " 177.85793777139995,\n",
              " 169.32947001804325]"
            ]
          },
          "metadata": {
            "tags": []
          },
          "execution_count": 168
        }
      ]
    },
    {
      "cell_type": "code",
      "metadata": {
        "id": "0OPwZwHdsHO_"
      },
      "source": [
        "km = KMeans(n_clusters=9)\r\n",
        "y_km = km.fit_predict(X)"
      ],
      "execution_count": 169,
      "outputs": []
    },
    {
      "cell_type": "code",
      "metadata": {
        "colab": {
          "base_uri": "https://localhost:8080/",
          "height": 283
        },
        "id": "y6SXZwEp0Vs5",
        "outputId": "7bf08f91-551d-4012-a60b-9e64863527ec"
      },
      "source": [
        "plt.plot(nb_clusters, ch_sc) "
      ],
      "execution_count": 170,
      "outputs": [
        {
          "output_type": "execute_result",
          "data": {
            "text/plain": [
              "[<matplotlib.lines.Line2D at 0x7f7ccd001d30>]"
            ]
          },
          "metadata": {
            "tags": []
          },
          "execution_count": 170
        },
        {
          "output_type": "display_data",
          "data": {
            "image/png": "[encoded data removed]",
            "text/plain": [
              "<Figure size 432x288 with 1 Axes>"
            ]
          },
          "metadata": {
            "tags": [],
            "needs_background": "light"
          }
        }
      ]
    },
    {
      "cell_type": "markdown",
      "metadata": {
        "id": "Lj2g1uH2GsII"
      },
      "source": [
        "Kmean\r\n"
      ]
    },
    {
      "cell_type": "code",
      "metadata": {
        "colab": {
          "base_uri": "https://localhost:8080/"
        },
        "id": "tPRhab4zs9Y8",
        "outputId": "a46bb5cb-0a13-41bb-976f-6ddc58908d79"
      },
      "source": [
        "print(silhouette_score(X, y_km))\r\n",
        "print(calinski_harabaz_score(X, y_km))\r\n",
        "print(homogeneity_score(y, y_km))\r\n",
        "print(completeness_score(y, y_km))\r\n",
        "print(adjusted_rand_score(y, y_km))"
      ],
      "execution_count": 171,
      "outputs": [
        {
          "output_type": "stream",
          "text": [
            "0.1892150187238989\n",
            "177.83897026482109\n",
            "0.6939392703161892\n",
            "0.7523570761115655\n",
            "0.5991684019731661\n"
          ],
          "name": "stdout"
        },
        {
          "output_type": "stream",
          "text": [
            "/usr/local/lib/python3.6/dist-packages/sklearn/utils/deprecation.py:87: FutureWarning: Function calinski_harabaz_score is deprecated; Function 'calinski_harabaz_score' has been renamed to 'calinski_harabasz_score' and will be removed in version 0.23.\n",
            "  warnings.warn(msg, category=FutureWarning)\n"
          ],
          "name": "stderr"
        }
      ]
    },
    {
      "cell_type": "markdown",
      "metadata": {
        "id": "HThqZaWAolDA"
      },
      "source": [
        "DBSCAN"
      ]
    },
    {
      "cell_type": "code",
      "metadata": {
        "colab": {
          "base_uri": "https://localhost:8080/"
        },
        "id": "8f64OaBzqlVB",
        "outputId": "380490cb-c647-4225-d17c-48b3ce1c8adf"
      },
      "source": [
        "print(silhouette_score(X, Yp_dbs))\r\n",
        "print(calinski_harabaz_score(X, Yp_dbs))\r\n",
        "print(homogeneity_score(y, Yp_dbs))\r\n",
        "print(completeness_score(y, Yp_dbs))\r\n",
        "print(adjusted_rand_score(y, Yp_dbs))"
      ],
      "execution_count": 172,
      "outputs": [
        {
          "output_type": "stream",
          "text": [
            "0.08741932083233113\n",
            "71.32647106837487\n",
            "0.8184765709392535\n",
            "0.7314121216307984\n",
            "0.6139226006157167\n"
          ],
          "name": "stdout"
        },
        {
          "output_type": "stream",
          "text": [
            "/usr/local/lib/python3.6/dist-packages/sklearn/utils/deprecation.py:87: FutureWarning: Function calinski_harabaz_score is deprecated; Function 'calinski_harabaz_score' has been renamed to 'calinski_harabasz_score' and will be removed in version 0.23.\n",
            "  warnings.warn(msg, category=FutureWarning)\n"
          ],
          "name": "stderr"
        }
      ]
    },
    {
      "cell_type": "markdown",
      "metadata": {
        "id": "pbQBjuyqqPW3"
      },
      "source": [
        "SpectralClustering"
      ]
    },
    {
      "cell_type": "code",
      "metadata": {
        "colab": {
          "base_uri": "https://localhost:8080/"
        },
        "id": "lIr10YurqPB5",
        "outputId": "4e0b40be-1a72-4958-cb8f-09d2f542c048"
      },
      "source": [
        "print(silhouette_score(X, Ys))\r\n",
        "print(calinski_harabaz_score(X, Ys))\r\n",
        "print(homogeneity_score(y, Ys))\r\n",
        "print(completeness_score(y, Ys))\r\n",
        "print(adjusted_rand_score(y, Ys))"
      ],
      "execution_count": 173,
      "outputs": [
        {
          "output_type": "stream",
          "text": [
            "0.16893653941221992\n",
            "154.77960485241596\n",
            "0.8259913181142817\n",
            "0.9168482179291366\n",
            "0.7437012641619926\n"
          ],
          "name": "stdout"
        },
        {
          "output_type": "stream",
          "text": [
            "/usr/local/lib/python3.6/dist-packages/sklearn/utils/deprecation.py:87: FutureWarning: Function calinski_harabaz_score is deprecated; Function 'calinski_harabaz_score' has been renamed to 'calinski_harabasz_score' and will be removed in version 0.23.\n",
            "  warnings.warn(msg, category=FutureWarning)\n"
          ],
          "name": "stderr"
        }
      ]
    },
    {
      "cell_type": "markdown",
      "metadata": {
        "id": "9yLcrYjKr28q"
      },
      "source": [
        "AgglomerativeClustering"
      ]
    },
    {
      "cell_type": "code",
      "metadata": {
        "colab": {
          "base_uri": "https://localhost:8080/"
        },
        "id": "WW2WJZ1Hr6Dq",
        "outputId": "71665d82-e58e-4f6e-ed13-eb1c3e6ac5bc"
      },
      "source": [
        "print(silhouette_score(X, Y_ac))\r\n",
        "print(calinski_harabaz_score(X, Y_ac))\r\n",
        "print(homogeneity_score(y, Y_ac))\r\n",
        "print(completeness_score(y, Y_ac))\r\n",
        "print(adjusted_rand_score(y, Y_ac))"
      ],
      "execution_count": 174,
      "outputs": [
        {
          "output_type": "stream",
          "text": [
            "0.11378173759722789\n",
            "118.82114071964199\n",
            "0.5409008502779501\n",
            "0.6196809854043795\n",
            "0.39058840632003455\n"
          ],
          "name": "stdout"
        },
        {
          "output_type": "stream",
          "text": [
            "/usr/local/lib/python3.6/dist-packages/sklearn/utils/deprecation.py:87: FutureWarning: Function calinski_harabaz_score is deprecated; Function 'calinski_harabaz_score' has been renamed to 'calinski_harabasz_score' and will be removed in version 0.23.\n",
            "  warnings.warn(msg, category=FutureWarning)\n"
          ],
          "name": "stderr"
        }
      ]
    },
    {
      "cell_type": "code",
      "metadata": {
        "id": "DotMzkKM0OaB"
      },
      "source": [
        ""
      ],
      "execution_count": 174,
      "outputs": []
    }
  ]
}