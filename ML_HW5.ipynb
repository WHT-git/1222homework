{
  "nbformat": 4,
  "nbformat_minor": 0,
  "metadata": {
    "colab": {
      "name": "ML_HW5.ipynb",
      "provenance": [],
      "collapsed_sections": []
    },
    "kernelspec": {
      "name": "python3",
      "display_name": "Python 3"
    }
  },
  "cells": [
    {
      "cell_type": "code",
      "metadata": {
        "id": "pfYdJ2knt7pH"
      },
      "source": [
        "import numpy as np\r\n",
        "import pandas as pd\r\n",
        "from sklearn.datasets import load_digits"
      ],
      "execution_count": null,
      "outputs": []
    },
    {
      "cell_type": "code",
      "metadata": {
        "id": "0cYYpXZPYPgG"
      },
      "source": [
        "digist = datasets.load_digits()"
      ],
      "execution_count": null,
      "outputs": []
    },
    {
      "cell_type": "code",
      "metadata": {
        "id": "CU_ED8kqYZgF"
      },
      "source": [
        "X = digist.data\r\n",
        "y = digist.target"
      ],
      "execution_count": null,
      "outputs": []
    },
    {
      "cell_type": "code",
      "metadata": {
        "colab": {
          "base_uri": "https://localhost:8080/"
        },
        "id": "l8pxHw-LW1qn",
        "outputId": "4ef85bbd-764c-4e12-c0b3-db41e51ccec9"
      },
      "source": [
        "X"
      ],
      "execution_count": null,
      "outputs": [
        {
          "output_type": "execute_result",
          "data": {
            "text/plain": [
              "array([[ 0.,  0.,  5., ...,  0.,  0.,  0.],\n",
              "       [ 0.,  0.,  0., ..., 10.,  0.,  0.],\n",
              "       [ 0.,  0.,  0., ..., 16.,  9.,  0.],\n",
              "       ...,\n",
              "       [ 0.,  0.,  1., ...,  6.,  0.,  0.],\n",
              "       [ 0.,  0.,  2., ..., 12.,  0.,  0.],\n",
              "       [ 0.,  0., 10., ..., 12.,  1.,  0.]])"
            ]
          },
          "metadata": {
            "tags": []
          },
          "execution_count": 91
        }
      ]
    },
    {
      "cell_type": "code",
      "metadata": {
        "id": "k6gRWlneuLeJ"
      },
      "source": [
        "from sklearn.cluster import KMeans"
      ],
      "execution_count": null,
      "outputs": []
    },
    {
      "cell_type": "code",
      "metadata": {
        "colab": {
          "base_uri": "https://localhost:8080/"
        },
        "id": "eOzARwjjmxrS",
        "outputId": "9a9f53ac-813c-425f-9228-887ef867a817"
      },
      "source": [
        "nb_clusters = [2, 3, 4, 5, 6, 7, 8]\r\n",
        "inertias = []\r\n",
        "for n in nb_clusters:\r\n",
        "  km = KMeans(n_clusters=n)\r\n",
        "  km.fit(X)\r\n",
        "  inertias.append(km.inertia_)\r\n",
        "inertias"
      ],
      "execution_count": null,
      "outputs": [
        {
          "output_type": "execute_result",
          "data": {
            "text/plain": [
              "[1914619.617550103,\n",
              " 1730182.2600869092,\n",
              " 1612276.6329247863,\n",
              " 1499113.746081168,\n",
              " 1405050.388841871,\n",
              " 1341489.6497323855,\n",
              " 1265098.930623143]"
            ]
          },
          "metadata": {
            "tags": []
          },
          "execution_count": 93
        }
      ]
    },
    {
      "cell_type": "code",
      "metadata": {
        "id": "5b3A-ayjuOWK"
      },
      "source": [
        "from sklearn.cluster import DBSCAN"
      ],
      "execution_count": null,
      "outputs": []
    },
    {
      "cell_type": "code",
      "metadata": {
        "id": "gv_glf2paezr"
      },
      "source": [
        "dbs = DBSCAN(eps=21)\r\n",
        "Yp_dbs = dbs.fit_predict(X)"
      ],
      "execution_count": null,
      "outputs": []
    },
    {
      "cell_type": "code",
      "metadata": {
        "id": "ZuUIfGGcuRcD"
      },
      "source": [
        "from sklearn.cluster import SpectralClustering"
      ],
      "execution_count": null,
      "outputs": []
    },
    {
      "cell_type": "code",
      "metadata": {
        "id": "f6cZQBAzbXg1"
      },
      "source": [
        "sc = SpectralClustering(n_clusters=9, affinity='nearest_neighbors')\r\n",
        "Ys = sc.fit_predict(X)"
      ],
      "execution_count": null,
      "outputs": []
    },
    {
      "cell_type": "code",
      "metadata": {
        "id": "VSMi79okuUre"
      },
      "source": [
        "from sklearn.cluster import AgglomerativeClustering"
      ],
      "execution_count": null,
      "outputs": []
    },
    {
      "cell_type": "code",
      "metadata": {
        "id": "fIBqJQSCjn8R"
      },
      "source": [
        "#complete linkage\r\n",
        "ac = AgglomerativeClustering(n_clusters=9, linkage='complete')\r\n",
        "Y_ac = ac.fit_predict(X)"
      ],
      "execution_count": null,
      "outputs": []
    },
    {
      "cell_type": "markdown",
      "metadata": {
        "id": "fotjTzhnm-fh"
      },
      "source": [
        "##評分結果"
      ]
    },
    {
      "cell_type": "code",
      "metadata": {
        "id": "96u5_7OTaNhH"
      },
      "source": [
        "from sklearn.metrics import silhouette_score\r\n",
        "from sklearn.metrics import calinski_harabaz_score\r\n",
        "from sklearn.metrics import completeness_score\r\n",
        "from sklearn.metrics import adjusted_rand_score\r\n",
        "from sklearn.metrics import homogeneity_score"
      ],
      "execution_count": null,
      "outputs": []
    },
    {
      "cell_type": "markdown",
      "metadata": {
        "id": "ZmcH1THYnqsZ"
      },
      "source": [
        "Kmean"
      ]
    },
    {
      "cell_type": "code",
      "metadata": {
        "id": "vO44PXdgXJsd"
      },
      "source": [
        "avg_silhouettes = []\r\n",
        "for n in nb_clusters:\r\n",
        "  km = KMeans(n_clusters=n)\r\n",
        "  y_km = km.fit_predict(X)\r\n",
        "  avg_silhouettes.append(silhouette_score(X, y_km))"
      ],
      "execution_count": null,
      "outputs": []
    },
    {
      "cell_type": "code",
      "metadata": {
        "colab": {
          "base_uri": "https://localhost:8080/"
        },
        "id": "RO7ICNcln0uW",
        "outputId": "cd3f4ac5-e937-4cb5-fba7-c02d35559636"
      },
      "source": [
        "avg_silhouettes"
      ],
      "execution_count": null,
      "outputs": [
        {
          "output_type": "execute_result",
          "data": {
            "text/plain": [
              "[0.11832841100655983,\n",
              " 0.12646687867839626,\n",
              " 0.12848527676522617,\n",
              " 0.13806580710297167,\n",
              " 0.1514681739080513,\n",
              " 0.1644416386994321,\n",
              " 0.1784883395543228]"
            ]
          },
          "metadata": {
            "tags": []
          },
          "execution_count": 102
        }
      ]
    },
    {
      "cell_type": "code",
      "metadata": {
        "colab": {
          "base_uri": "https://localhost:8080/"
        },
        "id": "bp2Afsm6ac4Q",
        "outputId": "78dcf298-7b1a-4ccf-d52c-05dd85a9e99b"
      },
      "source": [
        "ch_sc = []\r\n",
        "for n in nb_clusters:\r\n",
        "  km = KMeans(n_clusters=n)\r\n",
        "  y_km = km.fit_predict(X)\r\n",
        "  ch_sc.append(calinski_harabaz_score(X, y_km))"
      ],
      "execution_count": null,
      "outputs": [
        {
          "output_type": "stream",
          "text": [
            "/usr/local/lib/python3.6/dist-packages/sklearn/utils/deprecation.py:87: FutureWarning: Function calinski_harabaz_score is deprecated; Function 'calinski_harabaz_score' has been renamed to 'calinski_harabasz_score' and will be removed in version 0.23.\n",
            "  warnings.warn(msg, category=FutureWarning)\n",
            "/usr/local/lib/python3.6/dist-packages/sklearn/utils/deprecation.py:87: FutureWarning: Function calinski_harabaz_score is deprecated; Function 'calinski_harabaz_score' has been renamed to 'calinski_harabasz_score' and will be removed in version 0.23.\n",
            "  warnings.warn(msg, category=FutureWarning)\n",
            "/usr/local/lib/python3.6/dist-packages/sklearn/utils/deprecation.py:87: FutureWarning: Function calinski_harabaz_score is deprecated; Function 'calinski_harabaz_score' has been renamed to 'calinski_harabasz_score' and will be removed in version 0.23.\n",
            "  warnings.warn(msg, category=FutureWarning)\n",
            "/usr/local/lib/python3.6/dist-packages/sklearn/utils/deprecation.py:87: FutureWarning: Function calinski_harabaz_score is deprecated; Function 'calinski_harabaz_score' has been renamed to 'calinski_harabasz_score' and will be removed in version 0.23.\n",
            "  warnings.warn(msg, category=FutureWarning)\n",
            "/usr/local/lib/python3.6/dist-packages/sklearn/utils/deprecation.py:87: FutureWarning: Function calinski_harabaz_score is deprecated; Function 'calinski_harabaz_score' has been renamed to 'calinski_harabasz_score' and will be removed in version 0.23.\n",
            "  warnings.warn(msg, category=FutureWarning)\n",
            "/usr/local/lib/python3.6/dist-packages/sklearn/utils/deprecation.py:87: FutureWarning: Function calinski_harabaz_score is deprecated; Function 'calinski_harabaz_score' has been renamed to 'calinski_harabasz_score' and will be removed in version 0.23.\n",
            "  warnings.warn(msg, category=FutureWarning)\n",
            "/usr/local/lib/python3.6/dist-packages/sklearn/utils/deprecation.py:87: FutureWarning: Function calinski_harabaz_score is deprecated; Function 'calinski_harabaz_score' has been renamed to 'calinski_harabasz_score' and will be removed in version 0.23.\n",
            "  warnings.warn(msg, category=FutureWarning)\n"
          ],
          "name": "stderr"
        }
      ]
    },
    {
      "cell_type": "code",
      "metadata": {
        "colab": {
          "base_uri": "https://localhost:8080/"
        },
        "id": "B_zpNw9Kadfb",
        "outputId": "b341d62a-6315-4ea7-a026-7c4e65071222"
      },
      "source": [
        "ch_sc"
      ],
      "execution_count": null,
      "outputs": [
        {
          "output_type": "execute_result",
          "data": {
            "text/plain": [
              "[229.16595019376055,\n",
              " 222.3362169447188,\n",
              " 204.0477223931169,\n",
              " 196.32015763709896,\n",
              " 192.24563912456054,\n",
              " 183.72493920761752,\n",
              " 180.63223053057257]"
            ]
          },
          "metadata": {
            "tags": []
          },
          "execution_count": 104
        }
      ]
    },
    {
      "cell_type": "code",
      "metadata": {
        "id": "0OPwZwHdsHO_"
      },
      "source": [
        "km = KMeans(n_clusters=9)\r\n",
        "y_km = km.fit_predict(X)"
      ],
      "execution_count": null,
      "outputs": []
    },
    {
      "cell_type": "markdown",
      "metadata": {
        "id": "Lj2g1uH2GsII"
      },
      "source": [
        "Kmean\r\n"
      ]
    },
    {
      "cell_type": "code",
      "metadata": {
        "colab": {
          "base_uri": "https://localhost:8080/"
        },
        "id": "tPRhab4zs9Y8",
        "outputId": "7e56a5fb-d2ed-4e59-d061-4591a28ba5ef"
      },
      "source": [
        "print(silhouette_score(X, y_km))\r\n",
        "print(calinski_harabaz_score(X, y_km))\r\n",
        "print(homogeneity_score(y, y_km))\r\n",
        "print(completeness_score(y, y_km))\r\n",
        "print(adjusted_rand_score(y, y_km))"
      ],
      "execution_count": null,
      "outputs": [
        {
          "output_type": "stream",
          "text": [
            "0.18924344199780493\n",
            "177.85746798785715\n",
            "0.6929129177304735\n",
            "0.7519937772852667\n",
            "0.5977444201771691\n"
          ],
          "name": "stdout"
        },
        {
          "output_type": "stream",
          "text": [
            "/usr/local/lib/python3.6/dist-packages/sklearn/utils/deprecation.py:87: FutureWarning: Function calinski_harabaz_score is deprecated; Function 'calinski_harabaz_score' has been renamed to 'calinski_harabasz_score' and will be removed in version 0.23.\n",
            "  warnings.warn(msg, category=FutureWarning)\n"
          ],
          "name": "stderr"
        }
      ]
    },
    {
      "cell_type": "markdown",
      "metadata": {
        "id": "HThqZaWAolDA"
      },
      "source": [
        "DBSCAN"
      ]
    },
    {
      "cell_type": "code",
      "metadata": {
        "colab": {
          "base_uri": "https://localhost:8080/"
        },
        "id": "8f64OaBzqlVB",
        "outputId": "1135a25b-6634-4f91-da28-e6227c7c2128"
      },
      "source": [
        "print(silhouette_score(X, Yp_dbs))\r\n",
        "print(calinski_harabaz_score(X, Yp_dbs))\r\n",
        "print(homogeneity_score(y, Yp_dbs))\r\n",
        "print(completeness_score(y, Yp_dbs))\r\n",
        "print(adjusted_rand_score(y, Yp_dbs))"
      ],
      "execution_count": null,
      "outputs": [
        {
          "output_type": "stream",
          "text": [
            "0.08741932083233113\n",
            "71.32647106837487\n",
            "0.8184765709392535\n",
            "0.7314121216307984\n",
            "0.6139226006157167\n"
          ],
          "name": "stdout"
        },
        {
          "output_type": "stream",
          "text": [
            "/usr/local/lib/python3.6/dist-packages/sklearn/utils/deprecation.py:87: FutureWarning: Function calinski_harabaz_score is deprecated; Function 'calinski_harabaz_score' has been renamed to 'calinski_harabasz_score' and will be removed in version 0.23.\n",
            "  warnings.warn(msg, category=FutureWarning)\n"
          ],
          "name": "stderr"
        }
      ]
    },
    {
      "cell_type": "markdown",
      "metadata": {
        "id": "pbQBjuyqqPW3"
      },
      "source": [
        "SpectralClustering"
      ]
    },
    {
      "cell_type": "code",
      "metadata": {
        "colab": {
          "base_uri": "https://localhost:8080/"
        },
        "id": "lIr10YurqPB5",
        "outputId": "fc50bd90-2848-4b57-a285-d671ca68bae3"
      },
      "source": [
        "print(silhouette_score(X, Ys))\r\n",
        "print(calinski_harabaz_score(X, Ys))\r\n",
        "print(homogeneity_score(y, Ys))\r\n",
        "print(completeness_score(y, Ys))\r\n",
        "print(adjusted_rand_score(y, Ys))"
      ],
      "execution_count": null,
      "outputs": [
        {
          "output_type": "stream",
          "text": [
            "0.16893653941221992\n",
            "154.77960485241599\n",
            "0.8259913181142817\n",
            "0.9168482179291366\n",
            "0.7437012641619926\n"
          ],
          "name": "stdout"
        },
        {
          "output_type": "stream",
          "text": [
            "/usr/local/lib/python3.6/dist-packages/sklearn/utils/deprecation.py:87: FutureWarning: Function calinski_harabaz_score is deprecated; Function 'calinski_harabaz_score' has been renamed to 'calinski_harabasz_score' and will be removed in version 0.23.\n",
            "  warnings.warn(msg, category=FutureWarning)\n"
          ],
          "name": "stderr"
        }
      ]
    },
    {
      "cell_type": "markdown",
      "metadata": {
        "id": "9yLcrYjKr28q"
      },
      "source": [
        "AgglomerativeClustering"
      ]
    },
    {
      "cell_type": "code",
      "metadata": {
        "colab": {
          "base_uri": "https://localhost:8080/"
        },
        "id": "WW2WJZ1Hr6Dq",
        "outputId": "a826ef9f-4015-4c6d-8d68-ad66f8574608"
      },
      "source": [
        "print(silhouette_score(X, Y_ac))\r\n",
        "print(calinski_harabaz_score(X, Y_ac))\r\n",
        "print(homogeneity_score(y, Y_ac))\r\n",
        "print(completeness_score(y, Y_ac))\r\n",
        "print(adjusted_rand_score(y, Y_ac))"
      ],
      "execution_count": null,
      "outputs": [
        {
          "output_type": "stream",
          "text": [
            "0.11378173759722789\n",
            "118.82114071964199\n",
            "0.5409008502779501\n",
            "0.6196809854043795\n",
            "0.39058840632003455\n"
          ],
          "name": "stdout"
        },
        {
          "output_type": "stream",
          "text": [
            "/usr/local/lib/python3.6/dist-packages/sklearn/utils/deprecation.py:87: FutureWarning: Function calinski_harabaz_score is deprecated; Function 'calinski_harabaz_score' has been renamed to 'calinski_harabasz_score' and will be removed in version 0.23.\n",
            "  warnings.warn(msg, category=FutureWarning)\n"
          ],
          "name": "stderr"
        }
      ]
    }
  ]
}